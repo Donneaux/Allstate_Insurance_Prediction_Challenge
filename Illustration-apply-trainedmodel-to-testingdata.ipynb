{
 "cells": [
  {
   "cell_type": "markdown",
   "metadata": {
    "deletable": true,
    "editable": true
   },
   "source": [
    "# Health Analytics\n",
    "- The application of data mining (machine learning & statistical testing) to different type of healthcare problems and datasets"
   ]
  },
  {
   "cell_type": "markdown",
   "metadata": {
    "deletable": true,
    "editable": true
   },
   "source": [
    "## Can healthcare providers use data analytics to predict diseases (e.g., 2nd heart attack) and hospital readmission?"
   ]
  },
  {
   "cell_type": "markdown",
   "metadata": {
    "collapsed": true,
    "deletable": true,
    "editable": true
   },
   "source": [
    "### Dataset\n",
    "Source: Data Mining for the Masses by Matthew North\n",
    "    \n",
    "Sonia has access to the company’s medical claims database. \n",
    "With this access, she is able to generate two data sets for us. \n",
    "This first is a list of people who have suffered heart attacks, \n",
    "with an attribute indicating whether or not they have had more than one; \n",
    "and the second is a list of those who have had a first heart attack, but not a second. \n",
    "The former data set, comprised of 138 observations, will serve as our training data; while the latter, \n",
    "comprised of 690 peoples’ data, will be for scoring. \n",
    "Sonia’s hope is to help this latter group of people avoid becoming second heart attack victims. \n",
    "\n",
    "In compiling the two data sets we have defined the following attributes: \n",
    "\n",
    "* **Age**: The age in years of the person, rounded to the nearest whole year. \n",
    "* **Marital_Status**: The person’s current marital status, indicated by a coded number: **0–Single, never married; 1–Married; 2–Divorced; 3–Widowed** \n",
    "* **Gender**: The person’s gender: **0 for female; 1 for male**. \n",
    "* **Weight_Category**: The person’s weight categorized into one of three levels: **0 for normal weight range; 1 for overweight; and 2 for obese** \n",
    "* **Cholesterol**: The person’s cholesterol level, as recorded at the time of their treatment for their most recent heart attack (their only heart attack, in the case of those individuals in the scoring data set. \n",
    "* **Stress_Management**: A binary attribute indicating whether or not the person has previously attended a stress management course: **0 for no; 1 for yes**. \n",
    "* **Trait_Anxiety**: A score on a scale of **0 to 100** measuring the level of each person’s natural stress levels and abilities to cope with stress. A short time after each person in each of the two data sets had recovered from their first heart attack, they were administered a standard test of natural anxiety. Their scores are tabulated and recorded in this attribute along five point increments. A score of 0 would indicate that the person never feels anxiety, pressure or stress in any situation, while a score of 100 would indicate that the person lives in a constant state of being overwhelmed and unable to deal with his or her circumstances. \n",
    "* **2nd_Heart_Attack**: This attribute exists only in the training data set. It will be our label, the prediction or target attribute. In the training data set, the attribute is set to **‘yes’** for individuals who have suffered second heart attacks, and **‘no’** for those who have not.                  "
   ]
  },
  {
   "cell_type": "code",
   "execution_count": 21,
   "metadata": {
    "collapsed": false,
    "deletable": true,
    "editable": true
   },
   "outputs": [],
   "source": [
    "import numpy as np\n",
    "import pandas as pd\n",
    "import matplotlib.pyplot as plt\n",
    "import seaborn as sns\n",
    "%matplotlib inline\n",
    "\n",
    "#import decisiontreeclassifier\n",
    "from sklearn import tree\n",
    "from sklearn.tree import DecisionTreeClassifier\n",
    "#import logisticregression classifier\n",
    "from sklearn.linear_model import LogisticRegression\n",
    "import statsmodels.api as sm\n",
    "#import knn classifier\n",
    "from sklearn.neighbors import KNeighborsClassifier\n",
    "\n",
    "#for validating your classification model\n",
    "from sklearn.cross_validation import train_test_split\n",
    "from sklearn.cross_validation import cross_val_score\n",
    "from sklearn import metrics\n",
    "from sklearn.metrics import roc_curve, auc\n",
    "\n",
    "# feature selection\n",
    "from sklearn.feature_selection import RFE\n",
    "from sklearn.ensemble import ExtraTreesClassifier\n",
    "from sklearn.feature_selection import SelectKBest\n",
    "from sklearn.feature_selection import chi2"
   ]
  },
  {
   "cell_type": "markdown",
   "metadata": {
    "deletable": true,
    "editable": true
   },
   "source": [
    "# Loading data"
   ]
  },
  {
   "cell_type": "code",
   "execution_count": 22,
   "metadata": {
    "collapsed": false,
    "deletable": true,
    "editable": true
   },
   "outputs": [
    {
     "name": "stdout",
     "output_type": "stream",
     "text": [
      "   Age  Marital_Status  Gender  Weight_Category  Cholesterol  \\\n",
      "0   60               2       0                1          150   \n",
      "1   69               2       1                1          170   \n",
      "2   52               1       0                0          174   \n",
      "3   66               2       1                1          169   \n",
      "4   70               3       0                1          237   \n",
      "\n",
      "   Stress_Management  Trait_Anxiety 2nd_Heart_Attack  \n",
      "0                  1             50              Yes  \n",
      "1                  0             60              Yes  \n",
      "2                  1             35               No  \n",
      "3                  0             60              Yes  \n",
      "4                  0             65              Yes  \n"
     ]
    }
   ],
   "source": [
    "df=pd.read_csv(\"data/heartattack_train.csv\")\n",
    "print df.head()"
   ]
  },
  {
   "cell_type": "code",
   "execution_count": 23,
   "metadata": {
    "collapsed": false,
    "deletable": true,
    "editable": true
   },
   "outputs": [
    {
     "name": "stdout",
     "output_type": "stream",
     "text": [
      "<class 'pandas.core.frame.DataFrame'>\n",
      "RangeIndex: 138 entries, 0 to 137\n",
      "Data columns (total 8 columns):\n",
      "Age                  138 non-null int64\n",
      "Marital_Status       138 non-null int64\n",
      "Gender               138 non-null int64\n",
      "Weight_Category      138 non-null int64\n",
      "Cholesterol          138 non-null int64\n",
      "Stress_Management    138 non-null int64\n",
      "Trait_Anxiety        138 non-null int64\n",
      "2nd_Heart_Attack     138 non-null object\n",
      "dtypes: int64(7), object(1)\n",
      "memory usage: 8.7+ KB\n"
     ]
    }
   ],
   "source": [
    "df.info()\n",
    "#no missing values"
   ]
  },
  {
   "cell_type": "markdown",
   "metadata": {
    "deletable": true,
    "editable": true
   },
   "source": [
    "# Data wrangling & ETL: Data cleaningg & transformation"
   ]
  },
  {
   "cell_type": "code",
   "execution_count": 24,
   "metadata": {
    "collapsed": false,
    "deletable": true,
    "editable": true
   },
   "outputs": [],
   "source": [
    "#mappling or replacing\n",
    "df = df.replace({'2nd_Heart_Attack': 'No'}, {'2nd_Heart_Attack': '0'})\n",
    "df = df.replace({'2nd_Heart_Attack': 'Yes'}, {'2nd_Heart_Attack': '1'})"
   ]
  },
  {
   "cell_type": "code",
   "execution_count": 25,
   "metadata": {
    "collapsed": false,
    "deletable": true,
    "editable": true
   },
   "outputs": [
    {
     "name": "stdout",
     "output_type": "stream",
     "text": [
      "<class 'pandas.core.frame.DataFrame'>\n",
      "RangeIndex: 138 entries, 0 to 137\n",
      "Data columns (total 8 columns):\n",
      "Age                  138 non-null int64\n",
      "Marital_Status       138 non-null int64\n",
      "Gender               138 non-null int64\n",
      "Weight_Category      138 non-null int64\n",
      "Cholesterol          138 non-null int64\n",
      "Stress_Management    138 non-null int64\n",
      "Trait_Anxiety        138 non-null int64\n",
      "2nd_Heart_Attack     138 non-null object\n",
      "dtypes: int64(7), object(1)\n",
      "memory usage: 8.7+ KB\n"
     ]
    }
   ],
   "source": [
    "df.info()\n",
    "#2nd heart attack is still treated as object or string"
   ]
  },
  {
   "cell_type": "code",
   "execution_count": 26,
   "metadata": {
    "collapsed": false,
    "deletable": true,
    "editable": true
   },
   "outputs": [
    {
     "name": "stdout",
     "output_type": "stream",
     "text": [
      "Age                  int64\n",
      "Marital_Status       int64\n",
      "Gender               int64\n",
      "Weight_Category      int64\n",
      "Cholesterol          int64\n",
      "Stress_Management    int64\n",
      "Trait_Anxiety        int64\n",
      "2nd_Heart_Attack     int32\n",
      "dtype: object\n"
     ]
    }
   ],
   "source": [
    "#or you can do this to convert object to number\n",
    "df['2nd_Heart_Attack'] = df['2nd_Heart_Attack'].astype(int)\n",
    "print df.dtypes"
   ]
  },
  {
   "cell_type": "raw",
   "metadata": {
    "collapsed": false,
    "deletable": true,
    "editable": true
   },
   "source": [
    "# another option\n",
    "df['2nd_Heart_Attack'] = df['2nd_Heart_Attack'].convert_objects(convert_numeric=True)\n",
    "df.info()"
   ]
  },
  {
   "cell_type": "code",
   "execution_count": 27,
   "metadata": {
    "collapsed": false,
    "deletable": true,
    "editable": true
   },
   "outputs": [
    {
     "name": "stdout",
     "output_type": "stream",
     "text": [
      "<class 'pandas.core.frame.DataFrame'>\n",
      "RangeIndex: 138 entries, 0 to 137\n",
      "Data columns (total 8 columns):\n",
      "Age                  138 non-null int64\n",
      "Marital_Status       138 non-null int64\n",
      "Gender               138 non-null int64\n",
      "Weight_Category      138 non-null int64\n",
      "Cholesterol          138 non-null int64\n",
      "Stress_Management    138 non-null int64\n",
      "Trait_Anxiety        138 non-null int64\n",
      "2nd_Heart_Attack     138 non-null int32\n",
      "dtypes: int32(1), int64(7)\n",
      "memory usage: 8.2 KB\n"
     ]
    },
    {
     "name": "stderr",
     "output_type": "stream",
     "text": [
      "C:\\Anaconda\\lib\\site-packages\\ipykernel\\__main__.py:1: FutureWarning: convert_objects is deprecated.  Use the data-type specific converters pd.to_datetime, pd.to_timedelta and pd.to_numeric.\n",
      "  if __name__ == '__main__':\n"
     ]
    }
   ],
   "source": [
    "df = df.convert_objects(convert_numeric=True)\n",
    "df.info()"
   ]
  },
  {
   "cell_type": "markdown",
   "metadata": {
    "deletable": true,
    "editable": true
   },
   "source": [
    "# Exploratory data analysis"
   ]
  },
  {
   "cell_type": "code",
   "execution_count": 28,
   "metadata": {
    "collapsed": false,
    "deletable": true,
    "editable": true
   },
   "outputs": [
    {
     "data": {
      "text/html": [
       "<div>\n",
       "<table border=\"1\" class=\"dataframe\">\n",
       "  <thead>\n",
       "    <tr style=\"text-align: right;\">\n",
       "      <th></th>\n",
       "      <th>Age</th>\n",
       "      <th>Marital_Status</th>\n",
       "      <th>Gender</th>\n",
       "      <th>Weight_Category</th>\n",
       "      <th>Cholesterol</th>\n",
       "      <th>Stress_Management</th>\n",
       "      <th>Trait_Anxiety</th>\n",
       "      <th>2nd_Heart_Attack</th>\n",
       "    </tr>\n",
       "  </thead>\n",
       "  <tbody>\n",
       "    <tr>\n",
       "      <th>count</th>\n",
       "      <td>138.000000</td>\n",
       "      <td>138.000000</td>\n",
       "      <td>138.000000</td>\n",
       "      <td>138.000000</td>\n",
       "      <td>138.000000</td>\n",
       "      <td>138.000000</td>\n",
       "      <td>138.000000</td>\n",
       "      <td>138.000000</td>\n",
       "    </tr>\n",
       "    <tr>\n",
       "      <th>mean</th>\n",
       "      <td>62.978261</td>\n",
       "      <td>1.695652</td>\n",
       "      <td>0.623188</td>\n",
       "      <td>0.920290</td>\n",
       "      <td>177.391304</td>\n",
       "      <td>0.442029</td>\n",
       "      <td>55.434783</td>\n",
       "      <td>0.492754</td>\n",
       "    </tr>\n",
       "    <tr>\n",
       "      <th>std</th>\n",
       "      <td>7.853092</td>\n",
       "      <td>0.824875</td>\n",
       "      <td>0.486352</td>\n",
       "      <td>0.764749</td>\n",
       "      <td>32.262707</td>\n",
       "      <td>0.498437</td>\n",
       "      <td>12.373126</td>\n",
       "      <td>0.501769</td>\n",
       "    </tr>\n",
       "    <tr>\n",
       "      <th>min</th>\n",
       "      <td>42.000000</td>\n",
       "      <td>0.000000</td>\n",
       "      <td>0.000000</td>\n",
       "      <td>0.000000</td>\n",
       "      <td>122.000000</td>\n",
       "      <td>0.000000</td>\n",
       "      <td>35.000000</td>\n",
       "      <td>0.000000</td>\n",
       "    </tr>\n",
       "    <tr>\n",
       "      <th>25%</th>\n",
       "      <td>58.000000</td>\n",
       "      <td>1.000000</td>\n",
       "      <td>0.000000</td>\n",
       "      <td>0.000000</td>\n",
       "      <td>161.000000</td>\n",
       "      <td>0.000000</td>\n",
       "      <td>45.000000</td>\n",
       "      <td>0.000000</td>\n",
       "    </tr>\n",
       "    <tr>\n",
       "      <th>50%</th>\n",
       "      <td>63.000000</td>\n",
       "      <td>2.000000</td>\n",
       "      <td>1.000000</td>\n",
       "      <td>1.000000</td>\n",
       "      <td>172.000000</td>\n",
       "      <td>0.000000</td>\n",
       "      <td>55.000000</td>\n",
       "      <td>0.000000</td>\n",
       "    </tr>\n",
       "    <tr>\n",
       "      <th>75%</th>\n",
       "      <td>69.000000</td>\n",
       "      <td>2.000000</td>\n",
       "      <td>1.000000</td>\n",
       "      <td>1.750000</td>\n",
       "      <td>188.750000</td>\n",
       "      <td>1.000000</td>\n",
       "      <td>60.000000</td>\n",
       "      <td>1.000000</td>\n",
       "    </tr>\n",
       "    <tr>\n",
       "      <th>max</th>\n",
       "      <td>81.000000</td>\n",
       "      <td>3.000000</td>\n",
       "      <td>1.000000</td>\n",
       "      <td>2.000000</td>\n",
       "      <td>239.000000</td>\n",
       "      <td>1.000000</td>\n",
       "      <td>80.000000</td>\n",
       "      <td>1.000000</td>\n",
       "    </tr>\n",
       "  </tbody>\n",
       "</table>\n",
       "</div>"
      ],
      "text/plain": [
       "              Age  Marital_Status      Gender  Weight_Category  Cholesterol  \\\n",
       "count  138.000000      138.000000  138.000000       138.000000   138.000000   \n",
       "mean    62.978261        1.695652    0.623188         0.920290   177.391304   \n",
       "std      7.853092        0.824875    0.486352         0.764749    32.262707   \n",
       "min     42.000000        0.000000    0.000000         0.000000   122.000000   \n",
       "25%     58.000000        1.000000    0.000000         0.000000   161.000000   \n",
       "50%     63.000000        2.000000    1.000000         1.000000   172.000000   \n",
       "75%     69.000000        2.000000    1.000000         1.750000   188.750000   \n",
       "max     81.000000        3.000000    1.000000         2.000000   239.000000   \n",
       "\n",
       "       Stress_Management  Trait_Anxiety  2nd_Heart_Attack  \n",
       "count         138.000000     138.000000        138.000000  \n",
       "mean            0.442029      55.434783          0.492754  \n",
       "std             0.498437      12.373126          0.501769  \n",
       "min             0.000000      35.000000          0.000000  \n",
       "25%             0.000000      45.000000          0.000000  \n",
       "50%             0.000000      55.000000          0.000000  \n",
       "75%             1.000000      60.000000          1.000000  \n",
       "max             1.000000      80.000000          1.000000  "
      ]
     },
     "execution_count": 28,
     "metadata": {},
     "output_type": "execute_result"
    }
   ],
   "source": [
    "# basic statistics\n",
    "df.describe()"
   ]
  },
  {
   "cell_type": "code",
   "execution_count": 29,
   "metadata": {
    "collapsed": false,
    "deletable": true,
    "editable": true
   },
   "outputs": [
    {
     "data": {
      "text/html": [
       "<div>\n",
       "<table border=\"1\" class=\"dataframe\">\n",
       "  <thead>\n",
       "    <tr style=\"text-align: right;\">\n",
       "      <th></th>\n",
       "      <th>Age</th>\n",
       "      <th>Marital_Status</th>\n",
       "      <th>Gender</th>\n",
       "      <th>Weight_Category</th>\n",
       "      <th>Cholesterol</th>\n",
       "      <th>Stress_Management</th>\n",
       "      <th>Trait_Anxiety</th>\n",
       "      <th>2nd_Heart_Attack</th>\n",
       "    </tr>\n",
       "  </thead>\n",
       "  <tbody>\n",
       "    <tr>\n",
       "      <th>Age</th>\n",
       "      <td>1.000000</td>\n",
       "      <td>0.427159</td>\n",
       "      <td>0.076195</td>\n",
       "      <td>0.402007</td>\n",
       "      <td>0.395331</td>\n",
       "      <td>-0.359295</td>\n",
       "      <td>0.667169</td>\n",
       "      <td>0.499182</td>\n",
       "    </tr>\n",
       "    <tr>\n",
       "      <th>Marital_Status</th>\n",
       "      <td>0.427159</td>\n",
       "      <td>1.000000</td>\n",
       "      <td>-0.033225</td>\n",
       "      <td>0.065402</td>\n",
       "      <td>0.273574</td>\n",
       "      <td>-0.291773</td>\n",
       "      <td>0.238340</td>\n",
       "      <td>0.364978</td>\n",
       "    </tr>\n",
       "    <tr>\n",
       "      <th>Gender</th>\n",
       "      <td>0.076195</td>\n",
       "      <td>-0.033225</td>\n",
       "      <td>1.000000</td>\n",
       "      <td>0.448531</td>\n",
       "      <td>0.191354</td>\n",
       "      <td>-0.241320</td>\n",
       "      <td>0.082007</td>\n",
       "      <td>0.317746</td>\n",
       "    </tr>\n",
       "    <tr>\n",
       "      <th>Weight_Category</th>\n",
       "      <td>0.402007</td>\n",
       "      <td>0.065402</td>\n",
       "      <td>0.448531</td>\n",
       "      <td>1.000000</td>\n",
       "      <td>0.397702</td>\n",
       "      <td>-0.347322</td>\n",
       "      <td>0.501244</td>\n",
       "      <td>0.730832</td>\n",
       "    </tr>\n",
       "    <tr>\n",
       "      <th>Cholesterol</th>\n",
       "      <td>0.395331</td>\n",
       "      <td>0.273574</td>\n",
       "      <td>0.191354</td>\n",
       "      <td>0.397702</td>\n",
       "      <td>1.000000</td>\n",
       "      <td>-0.405735</td>\n",
       "      <td>0.579485</td>\n",
       "      <td>0.506531</td>\n",
       "    </tr>\n",
       "    <tr>\n",
       "      <th>Stress_Management</th>\n",
       "      <td>-0.359295</td>\n",
       "      <td>-0.291773</td>\n",
       "      <td>-0.241320</td>\n",
       "      <td>-0.347322</td>\n",
       "      <td>-0.405735</td>\n",
       "      <td>1.000000</td>\n",
       "      <td>-0.321362</td>\n",
       "      <td>-0.439473</td>\n",
       "    </tr>\n",
       "    <tr>\n",
       "      <th>Trait_Anxiety</th>\n",
       "      <td>0.667169</td>\n",
       "      <td>0.238340</td>\n",
       "      <td>0.082007</td>\n",
       "      <td>0.501244</td>\n",
       "      <td>0.579485</td>\n",
       "      <td>-0.321362</td>\n",
       "      <td>1.000000</td>\n",
       "      <td>0.482548</td>\n",
       "    </tr>\n",
       "    <tr>\n",
       "      <th>2nd_Heart_Attack</th>\n",
       "      <td>0.499182</td>\n",
       "      <td>0.364978</td>\n",
       "      <td>0.317746</td>\n",
       "      <td>0.730832</td>\n",
       "      <td>0.506531</td>\n",
       "      <td>-0.439473</td>\n",
       "      <td>0.482548</td>\n",
       "      <td>1.000000</td>\n",
       "    </tr>\n",
       "  </tbody>\n",
       "</table>\n",
       "</div>"
      ],
      "text/plain": [
       "                        Age  Marital_Status    Gender  Weight_Category  \\\n",
       "Age                1.000000        0.427159  0.076195         0.402007   \n",
       "Marital_Status     0.427159        1.000000 -0.033225         0.065402   \n",
       "Gender             0.076195       -0.033225  1.000000         0.448531   \n",
       "Weight_Category    0.402007        0.065402  0.448531         1.000000   \n",
       "Cholesterol        0.395331        0.273574  0.191354         0.397702   \n",
       "Stress_Management -0.359295       -0.291773 -0.241320        -0.347322   \n",
       "Trait_Anxiety      0.667169        0.238340  0.082007         0.501244   \n",
       "2nd_Heart_Attack   0.499182        0.364978  0.317746         0.730832   \n",
       "\n",
       "                   Cholesterol  Stress_Management  Trait_Anxiety  \\\n",
       "Age                   0.395331          -0.359295       0.667169   \n",
       "Marital_Status        0.273574          -0.291773       0.238340   \n",
       "Gender                0.191354          -0.241320       0.082007   \n",
       "Weight_Category       0.397702          -0.347322       0.501244   \n",
       "Cholesterol           1.000000          -0.405735       0.579485   \n",
       "Stress_Management    -0.405735           1.000000      -0.321362   \n",
       "Trait_Anxiety         0.579485          -0.321362       1.000000   \n",
       "2nd_Heart_Attack      0.506531          -0.439473       0.482548   \n",
       "\n",
       "                   2nd_Heart_Attack  \n",
       "Age                        0.499182  \n",
       "Marital_Status             0.364978  \n",
       "Gender                     0.317746  \n",
       "Weight_Category            0.730832  \n",
       "Cholesterol                0.506531  \n",
       "Stress_Management         -0.439473  \n",
       "Trait_Anxiety              0.482548  \n",
       "2nd_Heart_Attack           1.000000  "
      ]
     },
     "execution_count": 29,
     "metadata": {},
     "output_type": "execute_result"
    }
   ],
   "source": [
    "# correlation analysis\n",
    "df.corr()"
   ]
  },
  {
   "cell_type": "code",
   "execution_count": 30,
   "metadata": {
    "collapsed": false,
    "deletable": true,
    "editable": true
   },
   "outputs": [
    {
     "data": {
      "text/plain": [
       "<matplotlib.axes._subplots.AxesSubplot at 0xe0a1da0>"
      ]
     },
     "execution_count": 30,
     "metadata": {},
     "output_type": "execute_result"
    },
    {
     "data": {
      "image/png": "[encoded data removed]",
      "text/plain": [
       "<matplotlib.figure.Figure at 0xe0a1ba8>"
      ]
     },
     "metadata": {},
     "output_type": "display_data"
    }
   ],
   "source": [
    "# heatmap for correlation\n",
    "plt.figure(figsize=(8,8))\n",
    "sns.heatmap(df.corr(), annot=True)"
   ]
  },
  {
   "cell_type": "markdown",
   "metadata": {
    "deletable": true,
    "editable": true
   },
   "source": [
    "# Data visualization & business intelligence\n",
    "I skip this step to focus on model building. In a real-world project, you should extract business intelligence using data visualization (e.g., groupby, matplotlib, seaborn)\n"
   ]
  },
  {
   "cell_type": "markdown",
   "metadata": {
    "deletable": true,
    "editable": true
   },
   "source": [
    "# Model Building & Validation\n",
    "\n",
    "When building a predictive model, we split the original data into two datasets: **training dataset and testing (validation) dataset**. This is called **\"split validation\"**, a type of **\"model validation\"**\n",
    "- A predictive model is built using the **training dataset** and **the model quality** is assessed as the model is applied into the **testing (validation) dataset** (See Appendix for more details)\n",
    "\n",
    "> **Two types of model validation**: \n",
    " 1. **split validation** (70% of the original data as training and the other 30% as testing dataset)\n",
    " 2. **cross validation** (90% of the original data as training and the other 10% as testing dataset): This allows to test the model quality 10 times. The average value is used to measure the model performance"
   ]
  },
  {
   "cell_type": "code",
   "execution_count": 31,
   "metadata": {
    "collapsed": false,
    "deletable": true,
    "editable": true
   },
   "outputs": [],
   "source": [
    "# declare X variables and y variable\n",
    "y = df['2nd_Heart_Attack']\n",
    "X = df.drop(['2nd_Heart_Attack'], axis=1)"
   ]
  },
  {
   "cell_type": "code",
   "execution_count": 32,
   "metadata": {
    "collapsed": false,
    "deletable": true,
    "editable": true
   },
   "outputs": [
    {
     "data": {
      "text/plain": [
       "DecisionTreeClassifier(class_weight=None, criterion='gini', max_depth=None,\n",
       "            max_features=None, max_leaf_nodes=None, min_samples_leaf=1,\n",
       "            min_samples_split=2, min_weight_fraction_leaf=0.0,\n",
       "            presort=False, random_state=None, splitter='best')"
      ]
     },
     "execution_count": 32,
     "metadata": {},
     "output_type": "execute_result"
    }
   ],
   "source": [
    "X_train, X_test, y_train, y_test = train_test_split(X, y, test_size=0.3, random_state=0)\n",
    "dt = DecisionTreeClassifier()\n",
    "dt.fit(X_train, y_train)"
   ]
  },
  {
   "cell_type": "code",
   "execution_count": 33,
   "metadata": {
    "collapsed": false,
    "deletable": true,
    "editable": true,
    "scrolled": true
   },
   "outputs": [
    {
     "name": "stdout",
     "output_type": "stream",
     "text": [
      "0.928571428571\n",
      "--------------------------------------------------------\n",
      "[[18  1]\n",
      " [ 2 21]]\n",
      "--------------------------------------------------------\n",
      "             precision    recall  f1-score   support\n",
      "\n",
      "          0       0.90      0.95      0.92        19\n",
      "          1       0.95      0.91      0.93        23\n",
      "\n",
      "avg / total       0.93      0.93      0.93        42\n",
      "\n",
      "--------------------------------------------------------\n",
      "0.930205949657\n"
     ]
    }
   ],
   "source": [
    "#Model evaluation\n",
    "# http://scikit-learn.org/stable/modules/model_evaluation.html\n",
    "print metrics.accuracy_score(y_test, dt.predict(X_test))\n",
    "print \"--------------------------------------------------------\"\n",
    "print metrics.confusion_matrix(y_test, dt.predict(X_test)) \n",
    "print \"--------------------------------------------------------\"\n",
    "print metrics.classification_report(y_test, dt.predict(X_test))\n",
    "print \"--------------------------------------------------------\"\n",
    "print metrics.roc_auc_score(y_test, dt.predict(X_test))\n",
    "\n",
    "# y-test is the acual y value in the testing dataset\n",
    "# dt.predict(X_test) is the y value generated by your model\n",
    "# If they are same, we can say your model is accurate."
   ]
  },
  {
   "cell_type": "markdown",
   "metadata": {
    "deletable": true,
    "editable": true
   },
   "source": [
    "# Model Deployement: Make Predictions on the new dataset (training dataset)\n",
    "\n",
    "## Important!!!: I used 7 variables to train a decision tree model above. Then, make sure you have the same number of variables in the testing data. Also the variables names must be identical.)"
   ]
  },
  {
   "cell_type": "code",
   "execution_count": 34,
   "metadata": {
    "collapsed": false,
    "deletable": true,
    "editable": true
   },
   "outputs": [
    {
     "data": {
      "text/html": [
       "<div>\n",
       "<table border=\"1\" class=\"dataframe\">\n",
       "  <thead>\n",
       "    <tr style=\"text-align: right;\">\n",
       "      <th></th>\n",
       "      <th>Age</th>\n",
       "      <th>Marital_Status</th>\n",
       "      <th>Gender</th>\n",
       "      <th>Weight_Category</th>\n",
       "      <th>Cholesterol</th>\n",
       "      <th>Stress_Management</th>\n",
       "      <th>Trait_Anxiety</th>\n",
       "    </tr>\n",
       "  </thead>\n",
       "  <tbody>\n",
       "    <tr>\n",
       "      <th>0</th>\n",
       "      <td>61</td>\n",
       "      <td>0</td>\n",
       "      <td>1</td>\n",
       "      <td>1</td>\n",
       "      <td>139</td>\n",
       "      <td>1</td>\n",
       "      <td>50</td>\n",
       "    </tr>\n",
       "    <tr>\n",
       "      <th>1</th>\n",
       "      <td>55</td>\n",
       "      <td>2</td>\n",
       "      <td>1</td>\n",
       "      <td>2</td>\n",
       "      <td>163</td>\n",
       "      <td>0</td>\n",
       "      <td>40</td>\n",
       "    </tr>\n",
       "  </tbody>\n",
       "</table>\n",
       "</div>"
      ],
      "text/plain": [
       "   Age  Marital_Status  Gender  Weight_Category  Cholesterol  \\\n",
       "0   61               0       1                1          139   \n",
       "1   55               2       1                2          163   \n",
       "\n",
       "   Stress_Management  Trait_Anxiety  \n",
       "0                  1             50  \n",
       "1                  0             40  "
      ]
     },
     "execution_count": 34,
     "metadata": {},
     "output_type": "execute_result"
    }
   ],
   "source": [
    "# scoring dataset\n",
    "testingdata=pd.read_csv(\"data/heartattack_scoring.csv\")\n",
    "testingdata.head(2)\n",
    "#no Y value in this dataset ... \n",
    "#we are trying to predict whether the people in this scoring dataset are likely to have 2nd heart attack or not."
   ]
  },
  {
   "cell_type": "code",
   "execution_count": 35,
   "metadata": {
    "collapsed": false,
    "deletable": true,
    "editable": true
   },
   "outputs": [
    {
     "name": "stdout",
     "output_type": "stream",
     "text": [
      "<class 'pandas.core.frame.DataFrame'>\n",
      "RangeIndex: 690 entries, 0 to 689\n",
      "Data columns (total 7 columns):\n",
      "Age                  690 non-null int64\n",
      "Marital_Status       690 non-null int64\n",
      "Gender               690 non-null int64\n",
      "Weight_Category      690 non-null int64\n",
      "Cholesterol          690 non-null int64\n",
      "Stress_Management    690 non-null int64\n",
      "Trait_Anxiety        690 non-null int64\n",
      "dtypes: int64(7)\n",
      "memory usage: 37.8 KB\n"
     ]
    }
   ],
   "source": [
    "testingdata.info()"
   ]
  },
  {
   "cell_type": "code",
   "execution_count": 36,
   "metadata": {
    "collapsed": false,
    "deletable": true,
    "editable": true
   },
   "outputs": [
    {
     "name": "stdout",
     "output_type": "stream",
     "text": [
      "[0 1 0 1 1 0 0 0 1 0 1 0 1 1 1 0 1 0 0 1 0 1 0 0 0 1 1 1 1 0 1 0 0 0 0 1 1\n",
      " 0 1 0 0 0 0 1 0 0 0 1 1 0 0 0 0 1 1 1 0 0 1 0 1 0 1 1 0 1 1 0 1 0 0 0 1 1\n",
      " 0 1 0 0 0 0 1 0 0 0 0 1 0 1 1 1 1 0 0 1 0 0 0 0 0 1 0 1 0 0 1 1 0 1 0 0 0\n",
      " 1 0 1 0 1 0 0 1 0 0 0 0 1 1 0 1 1 1 0 0 0 0 1 0 0 1 1 1 1 1 1 1 0 1 0 0 0\n",
      " 1 0 0 1 1 1 0 1 1 0 1 1 1 0 0 1 0 0 1 1 0 1 1 0 0 0 0 0 0 0 1 1 1 1 0 1 1\n",
      " 0 1 1 1 0 1 1 0 0 1 0 1 1 1 0 0 0 1 0 0 1 0 0 0 0 1 1 1 0 0 0 0 1 1 1 0 1\n",
      " 0 0 0 1 1 0 0 0 0 1 0 1 1 1 0 0 1 1 0 0 0 1 1 0 1 0 0 0 0 1 1 1 1 1 0 1 0\n",
      " 0 0 1 0 1 1 1 1 0 1 0 1 1 1 0 1 1 0 0 0 0 1 0 0 0 1 0 0 0 0 0 0 1 1 1 1 1\n",
      " 1 1 0 1 1 0 1 0 1 1 1 1 1 1 0 1 0 0 1 0 1 1 0 0 0 1 1 0 0 0 0 0 1 1 1 0 0\n",
      " 0 1 0 0 1 0 0 0 0 0 0 0 1 1 1 0 1 1 0 1 1 1 0 1 0 1 0 0 0 0 0 1 0 1 0 1 0\n",
      " 1 0 0 0 0 1 1 1 0 1 1 1 1 0 1 0 0 1 1 1 0 1 1 0 1 0 0 0 1 1 0 1 1 0 0 0 0\n",
      " 1 1 0 0 0 1 1 1 0 1 0 1 1 1 0 0 0 1 0 1 0 1 1 0 0 1 0 0 1 0 0 0 0 0 0 0 0\n",
      " 0 0 1 0 0 0 1 1 0 1 1 1 0 0 1 1 1 0 1 1 1 0 0 0 1 1 1 0 0 1 1 0 1 0 0 0 0\n",
      " 1 1 1 0 1 1 0 1 0 1 1 0 1 1 1 0 0 0 1 1 1 0 1 1 0 0 1 1 1 0 1 0 0 1 1 1 1\n",
      " 1 1 1 1 1 1 1 0 1 0 1 0 0 0 0 0 1 1 1 0 0 0 0 0 1 0 0 0 1 1 1 0 0 1 1 1 1\n",
      " 1 0 1 0 0 1 0 1 0 1 1 1 1 0 0 1 0 0 0 1 1 0 0 0 1 1 1 0 0 1 1 1 1 1 1 1 0\n",
      " 0 0 1 1 0 0 1 0 1 0 1 0 1 0 1 1 0 1 1 1 1 0 0 1 0 1 0 1 1 0 1 0 0 0 0 0 0\n",
      " 0 1 0 1 0 1 0 1 1 0 0 0 1 1 0 1 1 0 0 0 1 0 0 0 0 0 0 0 0 1 1 1 0 0 0 1 0\n",
      " 0 0 1 1 1 0 0 1 1 1 1 0 0 0 1 0 1 0 0 1 1 0 0 1]\n"
     ]
    }
   ],
   "source": [
    "predictedY = dt.predict(testingdata)\n",
    "print predictedY"
   ]
  },
  {
   "cell_type": "code",
   "execution_count": 37,
   "metadata": {
    "collapsed": false,
    "deletable": true,
    "editable": true
   },
   "outputs": [
    {
     "data": {
      "text/html": [
       "<div>\n",
       "<table border=\"1\" class=\"dataframe\">\n",
       "  <thead>\n",
       "    <tr style=\"text-align: right;\">\n",
       "      <th></th>\n",
       "      <th>predicted Y</th>\n",
       "    </tr>\n",
       "  </thead>\n",
       "  <tbody>\n",
       "    <tr>\n",
       "      <th>0</th>\n",
       "      <td>0</td>\n",
       "    </tr>\n",
       "    <tr>\n",
       "      <th>1</th>\n",
       "      <td>1</td>\n",
       "    </tr>\n",
       "    <tr>\n",
       "      <th>2</th>\n",
       "      <td>0</td>\n",
       "    </tr>\n",
       "    <tr>\n",
       "      <th>3</th>\n",
       "      <td>1</td>\n",
       "    </tr>\n",
       "    <tr>\n",
       "      <th>4</th>\n",
       "      <td>1</td>\n",
       "    </tr>\n",
       "  </tbody>\n",
       "</table>\n",
       "</div>"
      ],
      "text/plain": [
       "   predicted Y\n",
       "0            0\n",
       "1            1\n",
       "2            0\n",
       "3            1\n",
       "4            1"
      ]
     },
     "execution_count": 37,
     "metadata": {},
     "output_type": "execute_result"
    }
   ],
   "source": [
    "#combine the predicted Y value with the scoring dataset\n",
    "predictedY = pd.DataFrame(predictedY, columns=['predicted Y'])\n",
    "predictedY.head()"
   ]
  },
  {
   "cell_type": "code",
   "execution_count": 38,
   "metadata": {
    "collapsed": false,
    "deletable": true,
    "editable": true
   },
   "outputs": [
    {
     "data": {
      "text/html": [
       "<div>\n",
       "<table border=\"1\" class=\"dataframe\">\n",
       "  <thead>\n",
       "    <tr style=\"text-align: right;\">\n",
       "      <th></th>\n",
       "      <th>Age</th>\n",
       "      <th>Marital_Status</th>\n",
       "      <th>Gender</th>\n",
       "      <th>Weight_Category</th>\n",
       "      <th>Cholesterol</th>\n",
       "      <th>Stress_Management</th>\n",
       "      <th>Trait_Anxiety</th>\n",
       "      <th>predicted Y</th>\n",
       "    </tr>\n",
       "  </thead>\n",
       "  <tbody>\n",
       "    <tr>\n",
       "      <th>0</th>\n",
       "      <td>61</td>\n",
       "      <td>0</td>\n",
       "      <td>1</td>\n",
       "      <td>1</td>\n",
       "      <td>139</td>\n",
       "      <td>1</td>\n",
       "      <td>50</td>\n",
       "      <td>0</td>\n",
       "    </tr>\n",
       "    <tr>\n",
       "      <th>1</th>\n",
       "      <td>55</td>\n",
       "      <td>2</td>\n",
       "      <td>1</td>\n",
       "      <td>2</td>\n",
       "      <td>163</td>\n",
       "      <td>0</td>\n",
       "      <td>40</td>\n",
       "      <td>1</td>\n",
       "    </tr>\n",
       "    <tr>\n",
       "      <th>2</th>\n",
       "      <td>53</td>\n",
       "      <td>1</td>\n",
       "      <td>1</td>\n",
       "      <td>1</td>\n",
       "      <td>172</td>\n",
       "      <td>0</td>\n",
       "      <td>55</td>\n",
       "      <td>0</td>\n",
       "    </tr>\n",
       "    <tr>\n",
       "      <th>3</th>\n",
       "      <td>58</td>\n",
       "      <td>1</td>\n",
       "      <td>1</td>\n",
       "      <td>2</td>\n",
       "      <td>206</td>\n",
       "      <td>0</td>\n",
       "      <td>70</td>\n",
       "      <td>1</td>\n",
       "    </tr>\n",
       "    <tr>\n",
       "      <th>4</th>\n",
       "      <td>62</td>\n",
       "      <td>2</td>\n",
       "      <td>1</td>\n",
       "      <td>1</td>\n",
       "      <td>148</td>\n",
       "      <td>1</td>\n",
       "      <td>50</td>\n",
       "      <td>1</td>\n",
       "    </tr>\n",
       "  </tbody>\n",
       "</table>\n",
       "</div>"
      ],
      "text/plain": [
       "   Age  Marital_Status  Gender  Weight_Category  Cholesterol  \\\n",
       "0   61               0       1                1          139   \n",
       "1   55               2       1                2          163   \n",
       "2   53               1       1                1          172   \n",
       "3   58               1       1                2          206   \n",
       "4   62               2       1                1          148   \n",
       "\n",
       "   Stress_Management  Trait_Anxiety  predicted Y  \n",
       "0                  1             50            0  \n",
       "1                  0             40            1  \n",
       "2                  0             55            0  \n",
       "3                  0             70            1  \n",
       "4                  1             50            1  "
      ]
     },
     "execution_count": 38,
     "metadata": {},
     "output_type": "execute_result"
    }
   ],
   "source": [
    "#finally ...\n",
    "data1 = testingdata.join(predictedY) \n",
    "data1.head()"
   ]
  },
  {
   "cell_type": "markdown",
   "metadata": {
    "deletable": true,
    "editable": true
   },
   "source": [
    "2nd person (a 55 years old male) is likely to have 2nd heart attack"
   ]
  },
  {
   "cell_type": "code",
   "execution_count": 39,
   "metadata": {
    "collapsed": true,
    "deletable": true,
    "editable": true
   },
   "outputs": [],
   "source": [
    "data1.to_csv(\"data/output_risky_patients.csv\")"
   ]
  }
 ],
 "metadata": {
  "kernelspec": {
   "display_name": "Python 2",
   "language": "python",
   "name": "python2"
  },
  "language_info": {
   "codemirror_mode": {
    "name": "ipython",
    "version": 2
   },
   "file_extension": ".py",
   "mimetype": "text/x-python",
   "name": "python",
   "nbconvert_exporter": "python",
   "pygments_lexer": "ipython2",
   "version": "2.7.13"
  }
 },
 "nbformat": 4,
 "nbformat_minor": 0
}
